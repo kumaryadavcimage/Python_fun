{
 "cells": [
  {
   "cell_type": "markdown",
   "id": "8f9d7824-a98b-4e98-b349-bd79c4003333",
   "metadata": {},
   "source": [
    "#### Q1. Which keyword is used to create a function? Create a function to return a list of odd numbers in the range of 1 to 25."
   ]
  },
  {
   "cell_type": "markdown",
   "id": "c1491ee3-84e1-497d-9b2e-cc670cb5c62e",
   "metadata": {},
   "source": [
    "#### solve\n",
    "\n",
    "The def keyword is used to create a function in Python. Here's an example of creating a function named get_odd_numbers that returns a list of odd numbers in the range of 1 to 25:"
   ]
  },
  {
   "cell_type": "code",
   "execution_count": 1,
   "id": "041cad51-3495-4526-945b-0f7b00208726",
   "metadata": {},
   "outputs": [
    {
     "name": "stdout",
     "output_type": "stream",
     "text": [
      "[1, 3, 5, 7, 9, 11, 13, 15, 17, 19, 21, 23, 25]\n"
     ]
    }
   ],
   "source": [
    "def get_odd_numbers():\n",
    "    odd_numbers = [num for num in range(1, 26) if num % 2 != 0]\n",
    "    return odd_numbers\n",
    "\n",
    "# Call the function and print the result\n",
    "result = get_odd_numbers()\n",
    "print(result)\n"
   ]
  },
  {
   "cell_type": "markdown",
   "id": "2df73204-7266-4bf9-b803-40a27cd84ae0",
   "metadata": {},
   "source": [
    "####\n",
    "This function uses a list comprehension to generate a list of odd numbers in the specified range (1 to 25) and then returns that list. When you call the function and print the result, you should get the following output:"
   ]
  },
  {
   "cell_type": "markdown",
   "id": "72d48e89-7c92-4dbd-8ec6-b8fa0eb35543",
   "metadata": {},
   "source": [
    "#### Q2. Why *args and **kwargs is used in some functions? Create a function each for *args and **kwargs to demonstrate their use."
   ]
  },
  {
   "cell_type": "markdown",
   "id": "a128b225-18a4-4c91-b432-3503156a026c",
   "metadata": {},
   "source": [
    "#### solve\n",
    "*args and **kwargs are used in Python functions to allow for a variable number of arguments. They provide flexibility when defining functions that can accept an arbitrary number of positional arguments (*args) or keyword arguments (**kwargs).\n",
    "\n",
    "*args is used to pass a variable number of non-keyword (positional) arguments to a function.\n",
    "\n",
    "**kwargs is used to pass a variable number of keyword arguments to a function.\n",
    "\n",
    "Here are examples demonstrating the use of *args and **kwargs:\n",
    "\n",
    "Example with *args:"
   ]
  },
  {
   "cell_type": "code",
   "execution_count": 2,
   "id": "5dd5db98-fa42-454b-a976-4ad0395fd10d",
   "metadata": {},
   "outputs": [
    {
     "name": "stdout",
     "output_type": "stream",
     "text": [
      "6\n",
      "15\n"
     ]
    }
   ],
   "source": [
    "def sum_numbers(*args):\n",
    "    total = 0\n",
    "    for num in args:\n",
    "        total += num\n",
    "    return total\n",
    "\n",
    "# Call the function with different numbers of arguments\n",
    "result1 = sum_numbers(1, 2, 3)\n",
    "result2 = sum_numbers(1, 2, 3, 4, 5)\n",
    "\n",
    "print(result1)  # Output: 6\n",
    "print(result2)  # Output: 15\n"
   ]
  },
  {
   "cell_type": "markdown",
   "id": "27e41956-fa56-4963-99b8-686c3bc3b343",
   "metadata": {},
   "source": [
    "#### \n",
    "In this example, the sum_numbers function takes any number of positional arguments (*args) and calculates their sum.\n",
    "\n",
    "Example with **kwargs:"
   ]
  },
  {
   "cell_type": "code",
   "execution_count": 3,
   "id": "21a2b29d-d67b-4487-8ada-ea6c7302b05b",
   "metadata": {},
   "outputs": [
    {
     "name": "stdout",
     "output_type": "stream",
     "text": [
      "name: Alice\n",
      "age: 25\n",
      "name: Bob\n",
      "age: 30\n",
      "city: New York\n"
     ]
    }
   ],
   "source": [
    "def print_info(**kwargs):\n",
    "    for key, value in kwargs.items():\n",
    "        print(f\"{key}: {value}\")\n",
    "\n",
    "# Call the function with different keyword arguments\n",
    "print_info(name='Alice', age=25)\n",
    "print_info(name='Bob', age=30, city='New York')\n"
   ]
  },
  {
   "cell_type": "markdown",
   "id": "352bfea9-6704-43a8-8e6a-ea6ad2113aca",
   "metadata": {},
   "source": [
    "####\n",
    "In this example, the print_info function takes any number of keyword arguments (**kwargs) and prints their key-value pairs. This allows you to pass an arbitrary set of keyword arguments to the function."
   ]
  },
  {
   "cell_type": "markdown",
   "id": "be0071e4-6e9b-4d81-9319-37104ea7437b",
   "metadata": {},
   "source": [
    "#### Q3. What is an iterator in python? Name the method used to initialise the iterator object and the method used for iteration. Use these methods to print the first five elements of the given list [2, 4, 6, 8, 10, 12, 14,16, 18, 20].\n"
   ]
  },
  {
   "cell_type": "markdown",
   "id": "9583d064-faa9-4b2b-a329-3f7e9354f2db",
   "metadata": {},
   "source": [
    "#### solve\n",
    "\n",
    "In Python, an iterator is an object that represents a stream of data. It implements two methods, __iter__() and __next__(), that are required for iteration.\n",
    "\n",
    "\n",
    "__iter__() method is used to initialize an iterator object. It returns the iterator object itself.\n",
    "\n",
    "__next__() method is used for iteration. It returns the next element from the iterator.\n",
    "\n",
    "Here's an example using the given list to print the first five elements using an iterator:"
   ]
  },
  {
   "cell_type": "code",
   "execution_count": 4,
   "id": "6de29807-230b-4541-87f1-432141e126c1",
   "metadata": {},
   "outputs": [
    {
     "name": "stdout",
     "output_type": "stream",
     "text": [
      "2\n",
      "4\n",
      "6\n",
      "8\n",
      "10\n"
     ]
    }
   ],
   "source": [
    "# Given list\n",
    "my_list = [2, 4, 6, 8, 10, 12, 14, 16, 18, 20]\n",
    "\n",
    "# Initialize iterator object\n",
    "my_iterator = iter(my_list)\n",
    "\n",
    "# Iterate and print the first five elements\n",
    "for _ in range(5):\n",
    "    element = next(my_iterator)\n",
    "    print(element)\n"
   ]
  },
  {
   "cell_type": "markdown",
   "id": "dd342c73-35de-4092-a599-70afa82a350b",
   "metadata": {},
   "source": [
    "####\n",
    "In this example, iter(my_list) initializes the iterator object, and the for loop with next(my_iterator) is used to iterate through the first five elements of the list, printing each one. The iterator keeps track of its state, so subsequent calls to next() will return the next element in the sequence."
   ]
  },
  {
   "cell_type": "markdown",
   "id": "5e5b1d10-3808-47e9-ba47-5ce7e0b79147",
   "metadata": {},
   "source": [
    "#### Q4. What is a generator function in python? Why yield keyword is used? Give an example of a generator function.\n"
   ]
  },
  {
   "cell_type": "markdown",
   "id": "663c0605-f23f-421a-a066-dc69a65ed316",
   "metadata": {},
   "source": [
    "#### solve\n",
    "\n",
    "A generator function in Python is a special kind of function that allows you to create an iterator in a more concise and memory-efficient way compared to traditional functions. Instead of using return to produce a single result, a generator function uses the yield keyword to produce a series of values one at a time. The key advantage is that it generates values on the fly and does not store the entire sequence in memory.\n",
    "\n",
    "The yield keyword is used to produce a value from the generator and pause the function's execution state. When the generator is later called again using next(), it resumes from where it was paused, retaining its local state.\n",
    "\n",
    "Here's an example of a simple generator function:"
   ]
  },
  {
   "cell_type": "code",
   "execution_count": 5,
   "id": "d94e14c2-5a8b-4b70-97f3-27f19476778b",
   "metadata": {},
   "outputs": [
    {
     "name": "stdout",
     "output_type": "stream",
     "text": [
      "1\n",
      "2\n",
      "3\n",
      "4\n",
      "5\n"
     ]
    }
   ],
   "source": [
    "def count_up_to_n(n):\n",
    "    count = 1\n",
    "    while count <= n:\n",
    "        yield count\n",
    "        count += 1\n",
    "\n",
    "# Using the generator function\n",
    "my_generator = count_up_to_n(5)\n",
    "\n",
    "# Iterating over the generator\n",
    "for num in my_generator:\n",
    "    print(num)\n"
   ]
  },
  {
   "cell_type": "markdown",
   "id": "359e41e7-faab-4710-baa8-8f280196cc0b",
   "metadata": {},
   "source": [
    "#### \n",
    "In this example, the count_up_to_n generator function yields values from 1 to n. When the generator is iterated using a for loop, it produces and prints each value on-the-fly. The function's state is preserved between successive calls, thanks to the yield keyword, allowing it to resume where it left off. This makes generators efficient for working with large datasets or when generating a sequence of values dynamically."
   ]
  },
  {
   "cell_type": "markdown",
   "id": "9d2441e2-df23-4798-88d5-3ca0372eba7f",
   "metadata": {},
   "source": [
    "#### Q5. Create a generator function for prime numbers less than 1000. Use the next() method to print the first 20 prime numbers.\n"
   ]
  },
  {
   "cell_type": "markdown",
   "id": "9c80546d-91fd-43aa-b20b-032a9111b5f1",
   "metadata": {},
   "source": [
    "#### solve\n",
    "\n",
    "Certainly! Here's an example of a generator function that produces prime numbers less than 1000 and uses the next() method to print the first 20 prime numbers:"
   ]
  },
  {
   "cell_type": "code",
   "execution_count": 6,
   "id": "38627f78-0f64-46ec-ba67-122247148c28",
   "metadata": {},
   "outputs": [
    {
     "name": "stdout",
     "output_type": "stream",
     "text": [
      "2\n",
      "3\n",
      "5\n",
      "7\n",
      "11\n",
      "13\n",
      "17\n",
      "19\n",
      "23\n",
      "29\n",
      "31\n",
      "37\n",
      "41\n",
      "43\n",
      "47\n",
      "53\n",
      "59\n",
      "61\n",
      "67\n",
      "71\n"
     ]
    }
   ],
   "source": [
    "def generate_primes():\n",
    "    primes = []\n",
    "    num = 2\n",
    "    while True:\n",
    "        is_prime = all(num % p != 0 for p in primes)\n",
    "        if is_prime:\n",
    "            yield num\n",
    "            primes.append(num)\n",
    "        num += 1\n",
    "\n",
    "# Create a generator for prime numbers\n",
    "prime_generator = generate_primes()\n",
    "\n",
    "# Print the first 20 prime numbers using next()\n",
    "for _ in range(20):\n",
    "    print(next(prime_generator))\n"
   ]
  },
  {
   "cell_type": "markdown",
   "id": "05de4d35-e8a1-4a23-bff9-2196f9c0865d",
   "metadata": {},
   "source": [
    "#### solve\n",
    "In this example, the generate_primes generator function continuously yields prime numbers. The next() method is used to obtain the next prime number in the sequence, and the loop prints the first 20 prime numbers. The generator retains its state between calls, allowing it to generate prime numbers on-the-fly."
   ]
  },
  {
   "cell_type": "markdown",
   "id": "eecdb941-6e99-4061-9206-64224658f5ea",
   "metadata": {},
   "source": [
    "#### Q6. Write a python program to print the first 10 Fibonacci numbers using a while loop."
   ]
  },
  {
   "cell_type": "markdown",
   "id": "c471fe7e-971f-4356-88e8-1ee00ea792d5",
   "metadata": {},
   "source": [
    "#### solve\n",
    "\n",
    "Certainly! Here's a Python program that prints the first 10 Fibonacci numbers using a while loop:"
   ]
  },
  {
   "cell_type": "code",
   "execution_count": 7,
   "id": "f641ea80-9a4f-47cc-adfd-5417123386ee",
   "metadata": {},
   "outputs": [
    {
     "name": "stdout",
     "output_type": "stream",
     "text": [
      "First 10 Fibonacci numbers: [0, 1, 1, 2, 3, 5, 8, 13, 21, 34]\n"
     ]
    }
   ],
   "source": [
    "# Function to print the first n Fibonacci numbers\n",
    "def print_fibonacci(n):\n",
    "    fib_sequence = []\n",
    "    a, b = 0, 1\n",
    "\n",
    "    while len(fib_sequence) < n:\n",
    "        fib_sequence.append(a)\n",
    "        a, b = b, a + b\n",
    "\n",
    "    return fib_sequence\n",
    "\n",
    "# Print the first 10 Fibonacci numbers\n",
    "fibonacci_numbers = print_fibonacci(10)\n",
    "print(\"First 10 Fibonacci numbers:\", fibonacci_numbers)\n"
   ]
  },
  {
   "cell_type": "markdown",
   "id": "8fc176cc-c4ff-4c8a-bfe6-a7e0a0adb82e",
   "metadata": {},
   "source": [
    "####\n",
    "In this program, the print_fibonacci function uses a while loop to generate the Fibonacci sequence. It starts with the initial values a = 0 and b = 1 and iteratively calculates the next Fibonacci numbers by swapping and adding the previous two numbers. The loop continues until the desired number of Fibonacci numbers (n) is reached. The resulting sequence is then printed."
   ]
  },
  {
   "cell_type": "markdown",
   "id": "d4a4125c-1ac0-4ae4-babf-eee3a2a7c1b3",
   "metadata": {},
   "source": [
    "#### Q7. Write a List Comprehension to iterate through the given string: ‘pwskills’. Expected output: ['p', 'w', 's', 'k', 'i', 'l', 'l', 's']\n"
   ]
  },
  {
   "cell_type": "markdown",
   "id": "60dd5cc2-184a-41f7-b9ac-a24584a31118",
   "metadata": {},
   "source": [
    "#### solve\n",
    "\n",
    "Certainly! You can use a list comprehension to iterate through the given string 'pwskills' and create a list of its characters. Here's the code:"
   ]
  },
  {
   "cell_type": "code",
   "execution_count": 8,
   "id": "858f63fe-cb43-4f42-a0f3-0afdf50a50b5",
   "metadata": {},
   "outputs": [
    {
     "name": "stdout",
     "output_type": "stream",
     "text": [
      "['p', 'w', 's', 'k', 'i', 'l', 'l', 's']\n"
     ]
    }
   ],
   "source": [
    "# Given string\n",
    "input_string = 'pwskills'\n",
    "\n",
    "# List comprehension to create a list of characters\n",
    "output_list = [char for char in input_string]\n",
    "\n",
    "# Print the result\n",
    "print(output_list)\n"
   ]
  },
  {
   "cell_type": "markdown",
   "id": "c5a4fe64-7539-40e9-9614-1fa08176f43e",
   "metadata": {},
   "source": [
    "####\n",
    "In this example, the list comprehension [char for char in input_string] iterates through each character in the given string 'pwskills' and creates a list of those characters. The resulting list is then printed."
   ]
  },
  {
   "cell_type": "markdown",
   "id": "a8649c39-8ff0-44ea-b12c-837212cc0191",
   "metadata": {},
   "source": [
    "#### Q8. Write a python program to check whether a given number is Palindrome or not using a while loop."
   ]
  },
  {
   "cell_type": "markdown",
   "id": "419a0aa3-f24d-43e9-a707-d5379b2394cf",
   "metadata": {},
   "source": [
    "#### solve\n",
    "Certainly! Here's a Python program that checks whether a given number is a palindrome or not using a while loop:"
   ]
  },
  {
   "cell_type": "code",
   "execution_count": 9,
   "id": "1633e622-0b52-4c37-9bd9-3e865a78af77",
   "metadata": {},
   "outputs": [
    {
     "name": "stdin",
     "output_type": "stream",
     "text": [
      "Enter a number:  121\n"
     ]
    },
    {
     "name": "stdout",
     "output_type": "stream",
     "text": [
      "121 is a palindrome.\n"
     ]
    }
   ],
   "source": [
    "def is_palindrome(number):\n",
    "    original_number = number\n",
    "    reverse_number = 0\n",
    "\n",
    "    while number > 0:\n",
    "        digit = number % 10\n",
    "        reverse_number = reverse_number * 10 + digit\n",
    "        number = number // 10\n",
    "\n",
    "    return original_number == reverse_number\n",
    "\n",
    "# Get user input for a number\n",
    "num = int(input(\"Enter a number: \"))\n",
    "\n",
    "# Check if the number is a palindrome\n",
    "if is_palindrome(num):\n",
    "    print(f\"{num} is a palindrome.\")\n",
    "else:\n",
    "    print(f\"{num} is not a palindrome.\")\n"
   ]
  },
  {
   "cell_type": "markdown",
   "id": "f6b58341-2de3-4ae0-90b1-fddd63b693b8",
   "metadata": {},
   "source": [
    "####\n",
    "Here's how the program works:\n",
    "\n",
    "The is_palindrome function takes a number as input and checks if it is a palindrome.\n",
    "\n",
    "Inside the function, a while loop is used to reverse the digits of the number.\n",
    "\n",
    "The reversed number is compared with the original number to determine if it is a palindrome.\n",
    "\n",
    "The user is prompted to enter a number, and the program then checks whether that number is a palindrome or not."
   ]
  },
  {
   "cell_type": "markdown",
   "id": "b7c67ac4-0066-488e-a74b-ca1a3a541264",
   "metadata": {},
   "source": [
    "#### Q9. Write a code to print odd numbers from 1 to 100 using list comprehension."
   ]
  },
  {
   "cell_type": "markdown",
   "id": "2b99b736-5ebd-4d98-9a48-11b86e241cbc",
   "metadata": {},
   "source": [
    "#### solve\n",
    "Certainly! You can use list comprehension to create a list of odd numbers from 1 to 100. Here's the code:"
   ]
  },
  {
   "cell_type": "code",
   "execution_count": 10,
   "id": "7467c868-c53a-40ef-b550-be0397a0b3c8",
   "metadata": {},
   "outputs": [
    {
     "name": "stdout",
     "output_type": "stream",
     "text": [
      "[1, 3, 5, 7, 9, 11, 13, 15, 17, 19, 21, 23, 25, 27, 29, 31, 33, 35, 37, 39, 41, 43, 45, 47, 49, 51, 53, 55, 57, 59, 61, 63, 65, 67, 69, 71, 73, 75, 77, 79, 81, 83, 85, 87, 89, 91, 93, 95, 97, 99]\n"
     ]
    }
   ],
   "source": [
    "# List comprehension to create a list of odd numbers from 1 to 100\n",
    "odd_numbers = [num for num in range(1, 101) if num % 2 != 0]\n",
    "\n",
    "# Print the result\n",
    "print(odd_numbers)\n"
   ]
  },
  {
   "cell_type": "markdown",
   "id": "77ad903f-ce6d-4f11-bc77-542fc8813d4e",
   "metadata": {},
   "source": [
    "####\n",
    "This code generates a list of odd numbers by iterating through the range from 1 to 100 and including only those numbers that are not divisible by 2. The resulting list is then printed."
   ]
  },
  {
   "cell_type": "code",
   "execution_count": null,
   "id": "c1add634-913e-4523-8edc-251b9bb32178",
   "metadata": {},
   "outputs": [],
   "source": []
  }
 ],
 "metadata": {
  "kernelspec": {
   "display_name": "Python 3 (ipykernel)",
   "language": "python",
   "name": "python3"
  },
  "language_info": {
   "codemirror_mode": {
    "name": "ipython",
    "version": 3
   },
   "file_extension": ".py",
   "mimetype": "text/x-python",
   "name": "python",
   "nbconvert_exporter": "python",
   "pygments_lexer": "ipython3",
   "version": "3.10.8"
  }
 },
 "nbformat": 4,
 "nbformat_minor": 5
}
